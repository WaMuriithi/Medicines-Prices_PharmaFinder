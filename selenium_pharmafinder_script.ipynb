{
 "cells": [
  {
   "cell_type": "code",
   "execution_count": 1,
   "id": "7f9a4795-d969-4727-af70-c38b66845a14",
   "metadata": {},
   "outputs": [],
   "source": [
    "import csv\n",
    "from selenium import webdriver\n",
    "from selenium.webdriver.common.by import By"
   ]
  },
  {
   "cell_type": "code",
   "execution_count": 48,
   "id": "750ca3c3-3c54-4b04-b2a5-22ad904e4b1f",
   "metadata": {},
   "outputs": [
    {
     "name": "stdout",
     "output_type": "stream",
     "text": [
      "No products found on page 118, skipping...\n",
      "scraped products on page 119. Ahsante!\n",
      "No products found on page 120, skipping...\n",
      "scraped products on page 121. Ahsante!\n",
      "scraped products on page 122. Ahsante!\n"
     ]
    }
   ],
   "source": [
    "# Open Chrome driver\n",
    "path = r\"C:\\Program Files (x86)\\chromedriver-win64\\chromedriver.exe\"\n",
    "driver = webdriver.Chrome(path)\n",
    "\n",
    "# Open CSV file to write the scraped information\n",
    "with open(r\"C:\\Users\\KINYUA\\Desktop\\Python\\pharma_finder_products\", 'w', newline='') as file_open:\n",
    "    csv_writer = csv.writer(file_open)\n",
    "    csv_writer.writerow(['generic_name', 'brand_name', 'manufacturer_agent', 'formulation', \n",
    "                        'strength_size', 'packsize', 'trade_price_ksh', 'retail_price_EA_ksh'])\n",
    "\n",
    "    # Access URL\n",
    "    for page in range(118, 123):\n",
    "        url = f\"https://www.pharmafinder.co.ke/generic?generic_id={page}\"\n",
    "        \n",
    "        try:\n",
    "            driver.get(url)\n",
    "            container = driver.find_elements(By.XPATH, '//div[@class=\"data body_div\"]')\n",
    "            \n",
    "            if not container:\n",
    "                print(f\"No products found on page {page}, skipping...\")\n",
    "                continue\n",
    "            \n",
    "            # Loop through all brands/generics on the page\n",
    "            for p in container:\n",
    "                products = p.find_elements(By.TAG_NAME, 'a')\n",
    "                product_list = [brand.text for brand in products]\n",
    "                \n",
    "                for i in range(1, len(product_list) + 1):\n",
    "                    x_path = f'//div[2]/a[{i}]'\n",
    "                    brand = driver.find_element(By.XPATH, x_path)\n",
    "                    driver.execute_script(\"arguments[0].scrollIntoView(true);\", brand)\n",
    "                    driver.execute_script(\"arguments[0].click();\", brand) \n",
    "                    \n",
    "                    # Extract elements\n",
    "                    brand_name = driver.find_element(By.XPATH, '//div[2]/p[1]').text.split(':')[1]\n",
    "                    generic_name = driver.find_element(By.XPATH, '//div[2]/p[2]').text.split(':')[1]\n",
    "                    manufacturer = driver.find_element(By.XPATH, '//div[2]/p[3]').text.split(':')[1]\n",
    "                    formulation = driver.find_element(By.XPATH, '//div[2]/p[4]').text.split(':')[1]\n",
    "                    strength_size = driver.find_element(By.XPATH, '//div[2]/p[5]').text.split(':')[1]\n",
    "                    pack_size = driver.find_element(By.XPATH, '//div[2]/p[6]').text.split(':')[1]\n",
    "                    trade_price = driver.find_element(By.XPATH, '//div[2]/p[7]').text.split(':')[1]\n",
    "                    retail_price = driver.find_element(By.XPATH, '//div[2]/p[8]').text.split(':')[1]\n",
    "                    \n",
    "                    # Write extracted data to CSV\n",
    "                    csv_writer.writerow([generic_name, brand_name, manufacturer, formulation, \n",
    "                                         strength_size, pack_size, trade_price, retail_price])\n",
    "                    \n",
    "                    # Move back to generic product landing page\n",
    "                    driver.back()\n",
    "                   \n",
    "            print(f\"scraped products on page {page}. Ahsante!\")\n",
    "        except Exception as e:\n",
    "            print(f'Error: {e}, skipping page {page}')\n",
    "            break\n",
    "\n",
    "# Close web page\n",
    "driver.quit()\n",
    "\n",
    "\n",
    "                   \n"
   ]
  },
  {
   "cell_type": "code",
   "execution_count": null,
   "id": "acf3fe47-7f2d-43db-99ae-093931089890",
   "metadata": {},
   "outputs": [],
   "source": []
  }
 ],
 "metadata": {
  "kernelspec": {
   "display_name": "Python 3 (ipykernel)",
   "language": "python",
   "name": "python3"
  },
  "language_info": {
   "codemirror_mode": {
    "name": "ipython",
    "version": 3
   },
   "file_extension": ".py",
   "mimetype": "text/x-python",
   "name": "python",
   "nbconvert_exporter": "python",
   "pygments_lexer": "ipython3",
   "version": "3.10.13"
  }
 },
 "nbformat": 4,
 "nbformat_minor": 5
}
